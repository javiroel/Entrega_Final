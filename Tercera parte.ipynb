{
 "cells": [
  {
   "cell_type": "markdown",
   "metadata": {},
   "source": [
    "**TERCERA PARTE - TRABAJO DE DATOS ,MODELOS Y MACHINE LEARNING** "
   ]
  },
  {
   "cell_type": "markdown",
   "metadata": {},
   "source": [
    "**1 - ANÁLISIS DE DATOS**"
   ]
  },
  {
   "cell_type": "code",
   "execution_count": 16,
   "metadata": {},
   "outputs": [],
   "source": [
    "import pandas                  as pd\n",
    "import numpy                   as np\n",
    "from sklearn.model_selection import KFold\n",
    "from sklearn.model_selection import GridSearchCV\n",
    "from sklearn.linear_model import Ridge\n",
    "from sklearn.model_selection import GridSearchCV\n",
    "from scipy import stats\n",
    "from sklearn.feature_selection import RFE\n",
    "from sklearn.feature_selection import SelectKBest\n",
    "from sklearn.feature_selection import f_regression\n",
    "from sklearn.linear_model import LinearRegression\n",
    "from sklearn.model_selection import train_test_split\n"
   ]
  },
  {
   "cell_type": "code",
   "execution_count": 2,
   "metadata": {},
   "outputs": [
    {
     "data": {
      "text/html": [
       "<div>\n",
       "<style scoped>\n",
       "    .dataframe tbody tr th:only-of-type {\n",
       "        vertical-align: middle;\n",
       "    }\n",
       "\n",
       "    .dataframe tbody tr th {\n",
       "        vertical-align: top;\n",
       "    }\n",
       "\n",
       "    .dataframe thead th {\n",
       "        text-align: right;\n",
       "    }\n",
       "</style>\n",
       "<table border=\"1\" class=\"dataframe\">\n",
       "  <thead>\n",
       "    <tr style=\"text-align: right;\">\n",
       "      <th></th>\n",
       "      <th>Gender</th>\n",
       "      <th>EthnicGroup</th>\n",
       "      <th>ParentEduc</th>\n",
       "      <th>LunchType</th>\n",
       "      <th>TestPrep</th>\n",
       "      <th>ParentMaritalStatus</th>\n",
       "      <th>PracticeSport</th>\n",
       "      <th>IsFirstChild</th>\n",
       "      <th>NrSiblings</th>\n",
       "      <th>TransportMeans</th>\n",
       "      <th>WklyStudyHours</th>\n",
       "      <th>MathScore</th>\n",
       "      <th>ReadingScore</th>\n",
       "      <th>WritingScore</th>\n",
       "    </tr>\n",
       "  </thead>\n",
       "  <tbody>\n",
       "    <tr>\n",
       "      <th>0</th>\n",
       "      <td>female</td>\n",
       "      <td>NaN</td>\n",
       "      <td>bachelor's degree</td>\n",
       "      <td>standard</td>\n",
       "      <td>none</td>\n",
       "      <td>married</td>\n",
       "      <td>regularly</td>\n",
       "      <td>yes</td>\n",
       "      <td>3.0</td>\n",
       "      <td>school_bus</td>\n",
       "      <td>&lt; 5</td>\n",
       "      <td>71</td>\n",
       "      <td>71</td>\n",
       "      <td>74</td>\n",
       "    </tr>\n",
       "    <tr>\n",
       "      <th>1</th>\n",
       "      <td>female</td>\n",
       "      <td>group C</td>\n",
       "      <td>some college</td>\n",
       "      <td>standard</td>\n",
       "      <td>NaN</td>\n",
       "      <td>married</td>\n",
       "      <td>sometimes</td>\n",
       "      <td>yes</td>\n",
       "      <td>0.0</td>\n",
       "      <td>NaN</td>\n",
       "      <td>5 - 10</td>\n",
       "      <td>69</td>\n",
       "      <td>90</td>\n",
       "      <td>88</td>\n",
       "    </tr>\n",
       "    <tr>\n",
       "      <th>2</th>\n",
       "      <td>female</td>\n",
       "      <td>group B</td>\n",
       "      <td>master's degree</td>\n",
       "      <td>standard</td>\n",
       "      <td>none</td>\n",
       "      <td>single</td>\n",
       "      <td>sometimes</td>\n",
       "      <td>yes</td>\n",
       "      <td>4.0</td>\n",
       "      <td>school_bus</td>\n",
       "      <td>&lt; 5</td>\n",
       "      <td>87</td>\n",
       "      <td>93</td>\n",
       "      <td>91</td>\n",
       "    </tr>\n",
       "    <tr>\n",
       "      <th>3</th>\n",
       "      <td>male</td>\n",
       "      <td>group A</td>\n",
       "      <td>associate's degree</td>\n",
       "      <td>free/reduced</td>\n",
       "      <td>none</td>\n",
       "      <td>married</td>\n",
       "      <td>never</td>\n",
       "      <td>no</td>\n",
       "      <td>1.0</td>\n",
       "      <td>NaN</td>\n",
       "      <td>5 - 10</td>\n",
       "      <td>45</td>\n",
       "      <td>56</td>\n",
       "      <td>42</td>\n",
       "    </tr>\n",
       "    <tr>\n",
       "      <th>4</th>\n",
       "      <td>male</td>\n",
       "      <td>group C</td>\n",
       "      <td>some college</td>\n",
       "      <td>standard</td>\n",
       "      <td>none</td>\n",
       "      <td>married</td>\n",
       "      <td>sometimes</td>\n",
       "      <td>yes</td>\n",
       "      <td>0.0</td>\n",
       "      <td>school_bus</td>\n",
       "      <td>5 - 10</td>\n",
       "      <td>76</td>\n",
       "      <td>78</td>\n",
       "      <td>75</td>\n",
       "    </tr>\n",
       "  </tbody>\n",
       "</table>\n",
       "</div>"
      ],
      "text/plain": [
       "   Gender EthnicGroup          ParentEduc     LunchType TestPrep  \\\n",
       "0  female         NaN   bachelor's degree      standard     none   \n",
       "1  female     group C        some college      standard      NaN   \n",
       "2  female     group B     master's degree      standard     none   \n",
       "3    male     group A  associate's degree  free/reduced     none   \n",
       "4    male     group C        some college      standard     none   \n",
       "\n",
       "  ParentMaritalStatus PracticeSport IsFirstChild  NrSiblings TransportMeans  \\\n",
       "0             married     regularly          yes         3.0     school_bus   \n",
       "1             married     sometimes          yes         0.0            NaN   \n",
       "2              single     sometimes          yes         4.0     school_bus   \n",
       "3             married         never           no         1.0            NaN   \n",
       "4             married     sometimes          yes         0.0     school_bus   \n",
       "\n",
       "  WklyStudyHours  MathScore  ReadingScore  WritingScore  \n",
       "0            < 5         71            71            74  \n",
       "1         5 - 10         69            90            88  \n",
       "2            < 5         87            93            91  \n",
       "3         5 - 10         45            56            42  \n",
       "4         5 - 10         76            78            75  "
      ]
     },
     "execution_count": 2,
     "metadata": {},
     "output_type": "execute_result"
    }
   ],
   "source": [
    "df=pd.read_csv('Exams/Expanded_data_with_more_features.csv', sep=',', decimal='.', index_col=0)\n",
    "df.head()"
   ]
  },
  {
   "cell_type": "code",
   "execution_count": 3,
   "metadata": {},
   "outputs": [
    {
     "data": {
      "text/plain": [
       "Gender                    0\n",
       "EthnicGroup            1840\n",
       "ParentEduc             1845\n",
       "LunchType                 0\n",
       "TestPrep               1830\n",
       "ParentMaritalStatus    1190\n",
       "PracticeSport           631\n",
       "IsFirstChild            904\n",
       "NrSiblings             1572\n",
       "TransportMeans         3134\n",
       "WklyStudyHours          955\n",
       "MathScore                 0\n",
       "ReadingScore              0\n",
       "WritingScore              0\n",
       "dtype: int64"
      ]
     },
     "execution_count": 3,
     "metadata": {},
     "output_type": "execute_result"
    }
   ],
   "source": [
    "df.isnull().sum()"
   ]
  },
  {
   "cell_type": "code",
   "execution_count": 4,
   "metadata": {},
   "outputs": [
    {
     "data": {
      "text/plain": [
       "Gender                  object\n",
       "EthnicGroup             object\n",
       "ParentEduc              object\n",
       "LunchType               object\n",
       "TestPrep                object\n",
       "ParentMaritalStatus     object\n",
       "PracticeSport           object\n",
       "IsFirstChild            object\n",
       "NrSiblings             float64\n",
       "TransportMeans          object\n",
       "WklyStudyHours          object\n",
       "MathScore                int64\n",
       "ReadingScore             int64\n",
       "WritingScore             int64\n",
       "dtype: object"
      ]
     },
     "execution_count": 4,
     "metadata": {},
     "output_type": "execute_result"
    }
   ],
   "source": [
    "df.dtypes"
   ]
  },
  {
   "cell_type": "code",
   "execution_count": 5,
   "metadata": {},
   "outputs": [],
   "source": [
    "# transformar los objetos a categoricos\n",
    "\n",
    "df[\"Gender\"] = df[\"Gender\"].astype(\"category\")\n",
    "df[\"ParentEduc\"] = df[\"ParentEduc\"].astype(\"category\")\n",
    "df[\"LunchType\"] = df[\"LunchType\"].astype(\"category\")\n",
    "df[\"WklyStudyHours\"] = df[\"WklyStudyHours\"].astype(\"category\")\n",
    "df[\"TestPrep\"] = df[\"TestPrep\"].astype(\"category\")\n",
    "df[\"PracticeSport\"] = df[\"PracticeSport\"].astype(\"category\")\n",
    "df[\"EthnicGroup\"] = df[\"EthnicGroup\"].astype(\"category\")\n"
   ]
  },
  {
   "cell_type": "code",
   "execution_count": 6,
   "metadata": {},
   "outputs": [],
   "source": [
    "# Eliminamos las filas con valores nulos\n",
    "df.dropna(inplace=True)"
   ]
  },
  {
   "cell_type": "code",
   "execution_count": 7,
   "metadata": {},
   "outputs": [
    {
     "data": {
      "text/html": [
       "<div>\n",
       "<style scoped>\n",
       "    .dataframe tbody tr th:only-of-type {\n",
       "        vertical-align: middle;\n",
       "    }\n",
       "\n",
       "    .dataframe tbody tr th {\n",
       "        vertical-align: top;\n",
       "    }\n",
       "\n",
       "    .dataframe thead th {\n",
       "        text-align: right;\n",
       "    }\n",
       "</style>\n",
       "<table border=\"1\" class=\"dataframe\">\n",
       "  <thead>\n",
       "    <tr style=\"text-align: right;\">\n",
       "      <th></th>\n",
       "      <th>Gender</th>\n",
       "      <th>EthnicGroup</th>\n",
       "      <th>ParentEduc</th>\n",
       "      <th>LunchType</th>\n",
       "      <th>TestPrep</th>\n",
       "      <th>ParentMaritalStatus</th>\n",
       "      <th>PracticeSport</th>\n",
       "      <th>IsFirstChild</th>\n",
       "      <th>NrSiblings</th>\n",
       "      <th>TransportMeans</th>\n",
       "      <th>WklyStudyHours</th>\n",
       "      <th>Score</th>\n",
       "    </tr>\n",
       "  </thead>\n",
       "  <tbody>\n",
       "    <tr>\n",
       "      <th>2</th>\n",
       "      <td>female</td>\n",
       "      <td>group B</td>\n",
       "      <td>master's degree</td>\n",
       "      <td>standard</td>\n",
       "      <td>none</td>\n",
       "      <td>single</td>\n",
       "      <td>sometimes</td>\n",
       "      <td>yes</td>\n",
       "      <td>4.0</td>\n",
       "      <td>school_bus</td>\n",
       "      <td>&lt; 5</td>\n",
       "      <td>90.0</td>\n",
       "    </tr>\n",
       "    <tr>\n",
       "      <th>4</th>\n",
       "      <td>male</td>\n",
       "      <td>group C</td>\n",
       "      <td>some college</td>\n",
       "      <td>standard</td>\n",
       "      <td>none</td>\n",
       "      <td>married</td>\n",
       "      <td>sometimes</td>\n",
       "      <td>yes</td>\n",
       "      <td>0.0</td>\n",
       "      <td>school_bus</td>\n",
       "      <td>5 - 10</td>\n",
       "      <td>76.0</td>\n",
       "    </tr>\n",
       "    <tr>\n",
       "      <th>5</th>\n",
       "      <td>female</td>\n",
       "      <td>group B</td>\n",
       "      <td>associate's degree</td>\n",
       "      <td>standard</td>\n",
       "      <td>none</td>\n",
       "      <td>married</td>\n",
       "      <td>regularly</td>\n",
       "      <td>yes</td>\n",
       "      <td>1.0</td>\n",
       "      <td>school_bus</td>\n",
       "      <td>5 - 10</td>\n",
       "      <td>79.0</td>\n",
       "    </tr>\n",
       "    <tr>\n",
       "      <th>6</th>\n",
       "      <td>female</td>\n",
       "      <td>group B</td>\n",
       "      <td>some college</td>\n",
       "      <td>standard</td>\n",
       "      <td>completed</td>\n",
       "      <td>widowed</td>\n",
       "      <td>never</td>\n",
       "      <td>no</td>\n",
       "      <td>1.0</td>\n",
       "      <td>private</td>\n",
       "      <td>5 - 10</td>\n",
       "      <td>89.0</td>\n",
       "    </tr>\n",
       "    <tr>\n",
       "      <th>7</th>\n",
       "      <td>male</td>\n",
       "      <td>group B</td>\n",
       "      <td>some college</td>\n",
       "      <td>free/reduced</td>\n",
       "      <td>none</td>\n",
       "      <td>married</td>\n",
       "      <td>sometimes</td>\n",
       "      <td>yes</td>\n",
       "      <td>1.0</td>\n",
       "      <td>private</td>\n",
       "      <td>&gt; 10</td>\n",
       "      <td>41.0</td>\n",
       "    </tr>\n",
       "  </tbody>\n",
       "</table>\n",
       "</div>"
      ],
      "text/plain": [
       "   Gender EthnicGroup          ParentEduc     LunchType   TestPrep  \\\n",
       "2  female     group B     master's degree      standard       none   \n",
       "4    male     group C        some college      standard       none   \n",
       "5  female     group B  associate's degree      standard       none   \n",
       "6  female     group B        some college      standard  completed   \n",
       "7    male     group B        some college  free/reduced       none   \n",
       "\n",
       "  ParentMaritalStatus PracticeSport IsFirstChild  NrSiblings TransportMeans  \\\n",
       "2              single     sometimes          yes         4.0     school_bus   \n",
       "4             married     sometimes          yes         0.0     school_bus   \n",
       "5             married     regularly          yes         1.0     school_bus   \n",
       "6             widowed         never           no         1.0        private   \n",
       "7             married     sometimes          yes         1.0        private   \n",
       "\n",
       "  WklyStudyHours  Score  \n",
       "2            < 5   90.0  \n",
       "4         5 - 10   76.0  \n",
       "5         5 - 10   79.0  \n",
       "6         5 - 10   89.0  \n",
       "7           > 10   41.0  "
      ]
     },
     "execution_count": 7,
     "metadata": {},
     "output_type": "execute_result"
    }
   ],
   "source": [
    "# crear la variable target (Score de los alumnos)\n",
    "\n",
    "df['Score'] = ((df['MathScore'] + df['ReadingScore'] + df['WritingScore'])/3).round(0)\n",
    "df.head()\n",
    "\n",
    "# eliminar las variables que no se van a utilizar\n",
    "\n",
    "df.drop(['MathScore', 'ReadingScore', 'WritingScore'], axis=1, inplace=True)\n",
    "df.head()"
   ]
  },
  {
   "cell_type": "markdown",
   "metadata": {},
   "source": [
    "Análisis de los datos atipicos"
   ]
  },
  {
   "cell_type": "code",
   "execution_count": 8,
   "metadata": {},
   "outputs": [
    {
     "name": "stdout",
     "output_type": "stream",
     "text": [
      "21.0\n"
     ]
    }
   ],
   "source": [
    "Estadisticas=df['Score'].describe()\n",
    "Q1 = Estadisticas.loc['25%']\n",
    "Q3 = Estadisticas.loc['75%']\n",
    "IQR = Q3 - Q1\n",
    "print(IQR)"
   ]
  },
  {
   "cell_type": "code",
   "execution_count": 9,
   "metadata": {},
   "outputs": [
    {
     "data": {
      "text/html": [
       "<div>\n",
       "<style scoped>\n",
       "    .dataframe tbody tr th:only-of-type {\n",
       "        vertical-align: middle;\n",
       "    }\n",
       "\n",
       "    .dataframe tbody tr th {\n",
       "        vertical-align: top;\n",
       "    }\n",
       "\n",
       "    .dataframe thead th {\n",
       "        text-align: right;\n",
       "    }\n",
       "</style>\n",
       "<table border=\"1\" class=\"dataframe\">\n",
       "  <thead>\n",
       "    <tr style=\"text-align: right;\">\n",
       "      <th></th>\n",
       "      <th>NrSiblings</th>\n",
       "      <th>Score</th>\n",
       "    </tr>\n",
       "  </thead>\n",
       "  <tbody>\n",
       "    <tr>\n",
       "      <th>count</th>\n",
       "      <td>62.000000</td>\n",
       "      <td>62.000000</td>\n",
       "    </tr>\n",
       "    <tr>\n",
       "      <th>mean</th>\n",
       "      <td>2.145161</td>\n",
       "      <td>21.322581</td>\n",
       "    </tr>\n",
       "    <tr>\n",
       "      <th>std</th>\n",
       "      <td>1.389029</td>\n",
       "      <td>3.651966</td>\n",
       "    </tr>\n",
       "    <tr>\n",
       "      <th>min</th>\n",
       "      <td>0.000000</td>\n",
       "      <td>9.000000</td>\n",
       "    </tr>\n",
       "    <tr>\n",
       "      <th>25%</th>\n",
       "      <td>1.000000</td>\n",
       "      <td>20.000000</td>\n",
       "    </tr>\n",
       "    <tr>\n",
       "      <th>50%</th>\n",
       "      <td>2.000000</td>\n",
       "      <td>22.000000</td>\n",
       "    </tr>\n",
       "    <tr>\n",
       "      <th>75%</th>\n",
       "      <td>3.000000</td>\n",
       "      <td>24.000000</td>\n",
       "    </tr>\n",
       "    <tr>\n",
       "      <th>max</th>\n",
       "      <td>7.000000</td>\n",
       "      <td>26.000000</td>\n",
       "    </tr>\n",
       "  </tbody>\n",
       "</table>\n",
       "</div>"
      ],
      "text/plain": [
       "       NrSiblings      Score\n",
       "count   62.000000  62.000000\n",
       "mean     2.145161  21.322581\n",
       "std      1.389029   3.651966\n",
       "min      0.000000   9.000000\n",
       "25%      1.000000  20.000000\n",
       "50%      2.000000  22.000000\n",
       "75%      3.000000  24.000000\n",
       "max      7.000000  26.000000"
      ]
     },
     "execution_count": 9,
     "metadata": {},
     "output_type": "execute_result"
    }
   ],
   "source": [
    "valores_atipicos=(df['Score']< (Q1 - 1.5 * IQR)) | (df['Score'] > (Q3 + 1.5 * IQR))\n",
    "df[valores_atipicos].describe()"
   ]
  },
  {
   "cell_type": "code",
   "execution_count": 10,
   "metadata": {},
   "outputs": [
    {
     "data": {
      "text/plain": [
       "(19243, 12)"
      ]
     },
     "execution_count": 10,
     "metadata": {},
     "output_type": "execute_result"
    }
   ],
   "source": [
    "df.shape"
   ]
  },
  {
   "cell_type": "code",
   "execution_count": 11,
   "metadata": {},
   "outputs": [],
   "source": [
    "df = pd.get_dummies(df, columns=[\"Gender\",\"EthnicGroup\",\"LunchType\",\"TestPrep\",\"ParentMaritalStatus\",\"IsFirstChild\",\"TransportMeans\"])"
   ]
  },
  {
   "cell_type": "markdown",
   "metadata": {},
   "source": [
    "Ordeno las variables segun caracteristicas , como la actividad fisica, el nivel de educacion de los padres y las horas de estudio"
   ]
  },
  {
   "cell_type": "code",
   "execution_count": 12,
   "metadata": {},
   "outputs": [],
   "source": [
    "# variable con conversion de string a numerico con metedo ordinal\n",
    "\n",
    "df['PracticeSport'] = df['PracticeSport'].replace({'never':0, 'sometimes':1,'regularly':2})"
   ]
  },
  {
   "cell_type": "code",
   "execution_count": 13,
   "metadata": {},
   "outputs": [],
   "source": [
    "df['WklyStudyHours'] = df['WklyStudyHours'].replace({'< 5':0, '5 - 10':1,'> 10':2})"
   ]
  },
  {
   "cell_type": "code",
   "execution_count": 14,
   "metadata": {},
   "outputs": [],
   "source": [
    "df['ParentEduc'] = df['ParentEduc'].replace({'some college':0, 'some high school':1,'high school':2,\"associate's degree\":3,\"bachelor's degree\":4,\"master's degree\":5}) # escala de educacion de los padres"
   ]
  },
  {
   "cell_type": "code",
   "execution_count": 15,
   "metadata": {},
   "outputs": [
    {
     "data": {
      "text/html": [
       "<div>\n",
       "<style scoped>\n",
       "    .dataframe tbody tr th:only-of-type {\n",
       "        vertical-align: middle;\n",
       "    }\n",
       "\n",
       "    .dataframe tbody tr th {\n",
       "        vertical-align: top;\n",
       "    }\n",
       "\n",
       "    .dataframe thead th {\n",
       "        text-align: right;\n",
       "    }\n",
       "</style>\n",
       "<table border=\"1\" class=\"dataframe\">\n",
       "  <thead>\n",
       "    <tr style=\"text-align: right;\">\n",
       "      <th></th>\n",
       "      <th>ParentEduc</th>\n",
       "      <th>PracticeSport</th>\n",
       "      <th>NrSiblings</th>\n",
       "      <th>WklyStudyHours</th>\n",
       "      <th>Score</th>\n",
       "      <th>Gender_female</th>\n",
       "      <th>Gender_male</th>\n",
       "      <th>EthnicGroup_group A</th>\n",
       "      <th>EthnicGroup_group B</th>\n",
       "      <th>EthnicGroup_group C</th>\n",
       "      <th>...</th>\n",
       "      <th>TestPrep_completed</th>\n",
       "      <th>TestPrep_none</th>\n",
       "      <th>ParentMaritalStatus_divorced</th>\n",
       "      <th>ParentMaritalStatus_married</th>\n",
       "      <th>ParentMaritalStatus_single</th>\n",
       "      <th>ParentMaritalStatus_widowed</th>\n",
       "      <th>IsFirstChild_no</th>\n",
       "      <th>IsFirstChild_yes</th>\n",
       "      <th>TransportMeans_private</th>\n",
       "      <th>TransportMeans_school_bus</th>\n",
       "    </tr>\n",
       "  </thead>\n",
       "  <tbody>\n",
       "    <tr>\n",
       "      <th>2</th>\n",
       "      <td>5</td>\n",
       "      <td>1</td>\n",
       "      <td>4.0</td>\n",
       "      <td>0</td>\n",
       "      <td>90.0</td>\n",
       "      <td>1</td>\n",
       "      <td>0</td>\n",
       "      <td>0</td>\n",
       "      <td>1</td>\n",
       "      <td>0</td>\n",
       "      <td>...</td>\n",
       "      <td>0</td>\n",
       "      <td>1</td>\n",
       "      <td>0</td>\n",
       "      <td>0</td>\n",
       "      <td>1</td>\n",
       "      <td>0</td>\n",
       "      <td>0</td>\n",
       "      <td>1</td>\n",
       "      <td>0</td>\n",
       "      <td>1</td>\n",
       "    </tr>\n",
       "    <tr>\n",
       "      <th>4</th>\n",
       "      <td>0</td>\n",
       "      <td>1</td>\n",
       "      <td>0.0</td>\n",
       "      <td>1</td>\n",
       "      <td>76.0</td>\n",
       "      <td>0</td>\n",
       "      <td>1</td>\n",
       "      <td>0</td>\n",
       "      <td>0</td>\n",
       "      <td>1</td>\n",
       "      <td>...</td>\n",
       "      <td>0</td>\n",
       "      <td>1</td>\n",
       "      <td>0</td>\n",
       "      <td>1</td>\n",
       "      <td>0</td>\n",
       "      <td>0</td>\n",
       "      <td>0</td>\n",
       "      <td>1</td>\n",
       "      <td>0</td>\n",
       "      <td>1</td>\n",
       "    </tr>\n",
       "    <tr>\n",
       "      <th>5</th>\n",
       "      <td>3</td>\n",
       "      <td>2</td>\n",
       "      <td>1.0</td>\n",
       "      <td>1</td>\n",
       "      <td>79.0</td>\n",
       "      <td>1</td>\n",
       "      <td>0</td>\n",
       "      <td>0</td>\n",
       "      <td>1</td>\n",
       "      <td>0</td>\n",
       "      <td>...</td>\n",
       "      <td>0</td>\n",
       "      <td>1</td>\n",
       "      <td>0</td>\n",
       "      <td>1</td>\n",
       "      <td>0</td>\n",
       "      <td>0</td>\n",
       "      <td>0</td>\n",
       "      <td>1</td>\n",
       "      <td>0</td>\n",
       "      <td>1</td>\n",
       "    </tr>\n",
       "    <tr>\n",
       "      <th>6</th>\n",
       "      <td>0</td>\n",
       "      <td>0</td>\n",
       "      <td>1.0</td>\n",
       "      <td>1</td>\n",
       "      <td>89.0</td>\n",
       "      <td>1</td>\n",
       "      <td>0</td>\n",
       "      <td>0</td>\n",
       "      <td>1</td>\n",
       "      <td>0</td>\n",
       "      <td>...</td>\n",
       "      <td>1</td>\n",
       "      <td>0</td>\n",
       "      <td>0</td>\n",
       "      <td>0</td>\n",
       "      <td>0</td>\n",
       "      <td>1</td>\n",
       "      <td>1</td>\n",
       "      <td>0</td>\n",
       "      <td>1</td>\n",
       "      <td>0</td>\n",
       "    </tr>\n",
       "    <tr>\n",
       "      <th>7</th>\n",
       "      <td>0</td>\n",
       "      <td>1</td>\n",
       "      <td>1.0</td>\n",
       "      <td>2</td>\n",
       "      <td>41.0</td>\n",
       "      <td>0</td>\n",
       "      <td>1</td>\n",
       "      <td>0</td>\n",
       "      <td>1</td>\n",
       "      <td>0</td>\n",
       "      <td>...</td>\n",
       "      <td>0</td>\n",
       "      <td>1</td>\n",
       "      <td>0</td>\n",
       "      <td>1</td>\n",
       "      <td>0</td>\n",
       "      <td>0</td>\n",
       "      <td>0</td>\n",
       "      <td>1</td>\n",
       "      <td>1</td>\n",
       "      <td>0</td>\n",
       "    </tr>\n",
       "  </tbody>\n",
       "</table>\n",
       "<p>5 rows × 24 columns</p>\n",
       "</div>"
      ],
      "text/plain": [
       "  ParentEduc PracticeSport  NrSiblings WklyStudyHours  Score  Gender_female  \\\n",
       "2          5             1         4.0              0   90.0              1   \n",
       "4          0             1         0.0              1   76.0              0   \n",
       "5          3             2         1.0              1   79.0              1   \n",
       "6          0             0         1.0              1   89.0              1   \n",
       "7          0             1         1.0              2   41.0              0   \n",
       "\n",
       "   Gender_male  EthnicGroup_group A  EthnicGroup_group B  EthnicGroup_group C  \\\n",
       "2            0                    0                    1                    0   \n",
       "4            1                    0                    0                    1   \n",
       "5            0                    0                    1                    0   \n",
       "6            0                    0                    1                    0   \n",
       "7            1                    0                    1                    0   \n",
       "\n",
       "   ...  TestPrep_completed  TestPrep_none  ParentMaritalStatus_divorced  \\\n",
       "2  ...                   0              1                             0   \n",
       "4  ...                   0              1                             0   \n",
       "5  ...                   0              1                             0   \n",
       "6  ...                   1              0                             0   \n",
       "7  ...                   0              1                             0   \n",
       "\n",
       "   ParentMaritalStatus_married  ParentMaritalStatus_single  \\\n",
       "2                            0                           1   \n",
       "4                            1                           0   \n",
       "5                            1                           0   \n",
       "6                            0                           0   \n",
       "7                            1                           0   \n",
       "\n",
       "   ParentMaritalStatus_widowed  IsFirstChild_no  IsFirstChild_yes  \\\n",
       "2                            0                0                 1   \n",
       "4                            0                0                 1   \n",
       "5                            0                0                 1   \n",
       "6                            1                1                 0   \n",
       "7                            0                0                 1   \n",
       "\n",
       "   TransportMeans_private  TransportMeans_school_bus  \n",
       "2                       0                          1  \n",
       "4                       0                          1  \n",
       "5                       0                          1  \n",
       "6                       1                          0  \n",
       "7                       1                          0  \n",
       "\n",
       "[5 rows x 24 columns]"
      ]
     },
     "execution_count": 15,
     "metadata": {},
     "output_type": "execute_result"
    }
   ],
   "source": [
    "df.head()"
   ]
  },
  {
   "cell_type": "markdown",
   "metadata": {},
   "source": [
    "**VARIABLES Y ELECCIÓN DE MODELOS**"
   ]
  },
  {
   "cell_type": "markdown",
   "metadata": {},
   "source": [
    "**Utilizo la seleccion de variables del modelo RFE para entrenar el modelo, ver cual es las mejores para el modelo**"
   ]
  },
  {
   "cell_type": "code",
   "execution_count": 20,
   "metadata": {},
   "outputs": [
    {
     "name": "stdout",
     "output_type": "stream",
     "text": [
      "Variables seleccionadas:  [ True  True False  True  True  True  True  True  True  True  True  True\n",
      "  True  True  True False False False False False False False False]\n",
      "Accuracy:  0.25058459071785344\n"
     ]
    }
   ],
   "source": [
    "#datos\n",
    "\n",
    "d1= df.drop(columns=[\"Score\"], axis=1) # feature variable\n",
    "d2= df[\"Score\"] # target variable\n",
    "\n",
    "# dividimos los datos en entrenamiento y test\n",
    "\n",
    "X_train, X_test, y_train, y_test = train_test_split(d1, d2, test_size=0.2 ,random_state=42) \n",
    "\n",
    "# creamos el modelo\n",
    "\n",
    "modelo6 = LinearRegression()\n",
    "\n",
    "rfe=RFE(modelo6,n_features_to_select=13) # se crea el objeto \n",
    "\n",
    "# entrenamos el modelo\n",
    "\n",
    "rfe.fit(X_train, y_train)\n",
    "\n",
    "# muestra las variables seleccionadas\n",
    "seleccion=rfe.support_\n",
    "\n",
    "variable_fija=1\n",
    "seleccion[variable_fija]=True \n",
    "\n",
    "\n",
    "print(\"Variables seleccionadas: \", seleccion)\n",
    "\n",
    "x_train_rfe=X_train.iloc[:,seleccion]\n",
    "x_test_rfe=X_test.iloc[:,seleccion]\n",
    "\n",
    "# entrenamos el modelo con las variables seleccionadas\n",
    "\n",
    "modelo6.fit(x_train_rfe,y_train)\n",
    "\n",
    "# evaluamos el conjunto de entrenamiento\n",
    "\n",
    "accuracy= modelo6.score(x_train_rfe,y_train)\n",
    "print(\"Accuracy: \", accuracy)"
   ]
  },
  {
   "cell_type": "markdown",
   "metadata": {},
   "source": [
    "**Elijo la cantidad de variables , donde el modelo se comporta mejor, en este caso 13 variables de las 23 totales**"
   ]
  },
  {
   "cell_type": "code",
   "execution_count": 21,
   "metadata": {},
   "outputs": [
    {
     "data": {
      "text/plain": [
       "Index(['ParentEduc', 'PracticeSport', 'NrSiblings', 'WklyStudyHours', 'Score',\n",
       "       'Gender_female', 'Gender_male', 'EthnicGroup_group A',\n",
       "       'EthnicGroup_group B', 'EthnicGroup_group C', 'EthnicGroup_group D',\n",
       "       'EthnicGroup_group E', 'LunchType_free/reduced', 'LunchType_standard',\n",
       "       'TestPrep_completed', 'TestPrep_none', 'ParentMaritalStatus_divorced',\n",
       "       'ParentMaritalStatus_married', 'ParentMaritalStatus_single',\n",
       "       'ParentMaritalStatus_widowed', 'IsFirstChild_no', 'IsFirstChild_yes',\n",
       "       'TransportMeans_private', 'TransportMeans_school_bus'],\n",
       "      dtype='object')"
      ]
     },
     "execution_count": 21,
     "metadata": {},
     "output_type": "execute_result"
    }
   ],
   "source": [
    "df.columns"
   ]
  },
  {
   "cell_type": "markdown",
   "metadata": {},
   "source": [
    "identifico las variables seleccionadas por el modelo RFE"
   ]
  },
  {
   "cell_type": "code",
   "execution_count": 22,
   "metadata": {},
   "outputs": [
    {
     "data": {
      "text/plain": [
       "Index(['ParentEduc', 'PracticeSport', 'WklyStudyHours', 'Gender_female',\n",
       "       'Gender_male', 'EthnicGroup_group A', 'EthnicGroup_group B',\n",
       "       'EthnicGroup_group C', 'EthnicGroup_group D', 'EthnicGroup_group E',\n",
       "       'LunchType_free/reduced', 'LunchType_standard', 'TestPrep_completed',\n",
       "       'TestPrep_none'],\n",
       "      dtype='object')"
      ]
     },
     "execution_count": 22,
     "metadata": {},
     "output_type": "execute_result"
    }
   ],
   "source": [
    "df_seleccion = df.drop(columns=['Score'], axis=1).columns[seleccion]\n",
    "df_seleccion"
   ]
  },
  {
   "cell_type": "markdown",
   "metadata": {},
   "source": [
    "Creo un nuevo dataframe con las variables seleccionadas"
   ]
  },
  {
   "cell_type": "code",
   "execution_count": 23,
   "metadata": {},
   "outputs": [
    {
     "data": {
      "text/html": [
       "<div>\n",
       "<style scoped>\n",
       "    .dataframe tbody tr th:only-of-type {\n",
       "        vertical-align: middle;\n",
       "    }\n",
       "\n",
       "    .dataframe tbody tr th {\n",
       "        vertical-align: top;\n",
       "    }\n",
       "\n",
       "    .dataframe thead th {\n",
       "        text-align: right;\n",
       "    }\n",
       "</style>\n",
       "<table border=\"1\" class=\"dataframe\">\n",
       "  <thead>\n",
       "    <tr style=\"text-align: right;\">\n",
       "      <th></th>\n",
       "      <th>ParentEduc</th>\n",
       "      <th>PracticeSport</th>\n",
       "      <th>WklyStudyHours</th>\n",
       "      <th>Gender_female</th>\n",
       "      <th>Gender_male</th>\n",
       "      <th>EthnicGroup_group A</th>\n",
       "      <th>EthnicGroup_group B</th>\n",
       "      <th>EthnicGroup_group C</th>\n",
       "      <th>EthnicGroup_group D</th>\n",
       "      <th>EthnicGroup_group E</th>\n",
       "      <th>LunchType_free/reduced</th>\n",
       "      <th>LunchType_standard</th>\n",
       "      <th>TestPrep_completed</th>\n",
       "      <th>TestPrep_none</th>\n",
       "    </tr>\n",
       "  </thead>\n",
       "  <tbody>\n",
       "    <tr>\n",
       "      <th>2</th>\n",
       "      <td>5</td>\n",
       "      <td>1</td>\n",
       "      <td>0</td>\n",
       "      <td>1</td>\n",
       "      <td>0</td>\n",
       "      <td>0</td>\n",
       "      <td>1</td>\n",
       "      <td>0</td>\n",
       "      <td>0</td>\n",
       "      <td>0</td>\n",
       "      <td>0</td>\n",
       "      <td>1</td>\n",
       "      <td>0</td>\n",
       "      <td>1</td>\n",
       "    </tr>\n",
       "    <tr>\n",
       "      <th>4</th>\n",
       "      <td>0</td>\n",
       "      <td>1</td>\n",
       "      <td>1</td>\n",
       "      <td>0</td>\n",
       "      <td>1</td>\n",
       "      <td>0</td>\n",
       "      <td>0</td>\n",
       "      <td>1</td>\n",
       "      <td>0</td>\n",
       "      <td>0</td>\n",
       "      <td>0</td>\n",
       "      <td>1</td>\n",
       "      <td>0</td>\n",
       "      <td>1</td>\n",
       "    </tr>\n",
       "    <tr>\n",
       "      <th>5</th>\n",
       "      <td>3</td>\n",
       "      <td>2</td>\n",
       "      <td>1</td>\n",
       "      <td>1</td>\n",
       "      <td>0</td>\n",
       "      <td>0</td>\n",
       "      <td>1</td>\n",
       "      <td>0</td>\n",
       "      <td>0</td>\n",
       "      <td>0</td>\n",
       "      <td>0</td>\n",
       "      <td>1</td>\n",
       "      <td>0</td>\n",
       "      <td>1</td>\n",
       "    </tr>\n",
       "    <tr>\n",
       "      <th>6</th>\n",
       "      <td>0</td>\n",
       "      <td>0</td>\n",
       "      <td>1</td>\n",
       "      <td>1</td>\n",
       "      <td>0</td>\n",
       "      <td>0</td>\n",
       "      <td>1</td>\n",
       "      <td>0</td>\n",
       "      <td>0</td>\n",
       "      <td>0</td>\n",
       "      <td>0</td>\n",
       "      <td>1</td>\n",
       "      <td>1</td>\n",
       "      <td>0</td>\n",
       "    </tr>\n",
       "    <tr>\n",
       "      <th>7</th>\n",
       "      <td>0</td>\n",
       "      <td>1</td>\n",
       "      <td>2</td>\n",
       "      <td>0</td>\n",
       "      <td>1</td>\n",
       "      <td>0</td>\n",
       "      <td>1</td>\n",
       "      <td>0</td>\n",
       "      <td>0</td>\n",
       "      <td>0</td>\n",
       "      <td>1</td>\n",
       "      <td>0</td>\n",
       "      <td>0</td>\n",
       "      <td>1</td>\n",
       "    </tr>\n",
       "  </tbody>\n",
       "</table>\n",
       "</div>"
      ],
      "text/plain": [
       "  ParentEduc PracticeSport WklyStudyHours  Gender_female  Gender_male  \\\n",
       "2          5             1              0              1            0   \n",
       "4          0             1              1              0            1   \n",
       "5          3             2              1              1            0   \n",
       "6          0             0              1              1            0   \n",
       "7          0             1              2              0            1   \n",
       "\n",
       "   EthnicGroup_group A  EthnicGroup_group B  EthnicGroup_group C  \\\n",
       "2                    0                    1                    0   \n",
       "4                    0                    0                    1   \n",
       "5                    0                    1                    0   \n",
       "6                    0                    1                    0   \n",
       "7                    0                    1                    0   \n",
       "\n",
       "   EthnicGroup_group D  EthnicGroup_group E  LunchType_free/reduced  \\\n",
       "2                    0                    0                       0   \n",
       "4                    0                    0                       0   \n",
       "5                    0                    0                       0   \n",
       "6                    0                    0                       0   \n",
       "7                    0                    0                       1   \n",
       "\n",
       "   LunchType_standard  TestPrep_completed  TestPrep_none  \n",
       "2                   1                   0              1  \n",
       "4                   1                   0              1  \n",
       "5                   1                   0              1  \n",
       "6                   1                   1              0  \n",
       "7                   0                   0              1  "
      ]
     },
     "execution_count": 23,
     "metadata": {},
     "output_type": "execute_result"
    }
   ],
   "source": [
    "df_new = df[df_seleccion]\n",
    "df_new.head()"
   ]
  },
  {
   "cell_type": "markdown",
   "metadata": {},
   "source": [
    "Cree el 'df_new', que son las variables elegidas por el modelo RFE, que segun la correlaccion de las variables, son las que mas influyen en el modelo."
   ]
  },
  {
   "cell_type": "markdown",
   "metadata": {},
   "source": [
    "**PCA - Variables sintéticas**"
   ]
  },
  {
   "cell_type": "code",
   "execution_count": 43,
   "metadata": {},
   "outputs": [
    {
     "name": "stdout",
     "output_type": "stream",
     "text": [
      "original shape:    (19243, 14)\n",
      "transformed shape: (19243, 7)\n",
      "Componente 1:  [ 9.99932171e-01 -7.07823952e-03 -2.70647239e-03 -1.12204310e-03\n",
      "  1.12204310e-03 -1.07717889e-03  8.20611770e-04  2.27380536e-03\n",
      " -8.11201842e-04 -1.20603640e-03  5.58719833e-03 -5.58719833e-03\n",
      " -1.44201379e-03  1.44201379e-03]\n",
      "Componente 2:  [-0.00204484 -0.08127453  0.06789214 -0.70032513  0.70032513  0.00129244\n",
      "  0.0026905  -0.01093792  0.00790889 -0.00095391 -0.00599257  0.00599257\n",
      " -0.06167053  0.06167053]\n",
      "El R2 del modelo es:  0.22377179247402057\n"
     ]
    }
   ],
   "source": [
    "#variables sinteticas con pca\n",
    "\n",
    "from sklearn.decomposition import PCA\n",
    "from sklearn.linear_model import LinearRegression\n",
    "from sklearn.preprocessing import PolynomialFeatures\n",
    "from sklearn.model_selection import train_test_split\n",
    "from sklearn.metrics import r2_score\n",
    "#importar sns\n",
    "import seaborn as sns\n",
    "import matplotlib.pyplot as plt\n",
    "\n",
    "X1=df_new\n",
    "#X1 = df.drop(columns=['Score'], axis=1)\n",
    "y1 = df['Score']\n",
    "\n",
    "\n",
    "pca = PCA(n_components=7)\n",
    "pca.fit(df_new)\n",
    "x_pca = pca.transform(df_new)\n",
    "\n",
    "print(\"original shape:   \", df_new.shape)\n",
    "print(\"transformed shape:\", x_pca.shape)\n",
    "loadings=pca.components_\n",
    "component_1=loadings[0,:]\n",
    "component_2=loadings[1,:]\n",
    "\n",
    "print(\"Componente 1: \", component_1)\n",
    "print(\"Componente 2: \", component_2)\n",
    "\n",
    "#pca_tabla=pd.DataFrame(x_pca)\n",
    "#print(pca_tabla)\n",
    "\n",
    "# separamos las variables predictoras de la variable objetivo\n",
    "\n",
    "X_train, X_test, y_train, y_test = train_test_split(x_pca, y1, test_size=0.3)\n",
    "\n",
    "# creamos el modelo\n",
    "\n",
    "modelo2 = LinearRegression()\n",
    "\n",
    "# entrenamos el modelo\n",
    "\n",
    "modelo2.fit(X_train, y_train)\n",
    "\n",
    "# hacemos la prediccion\n",
    "y_pred = modelo2.predict(X_test)\n",
    "\n",
    "# calculamos el error cuadratico medio\n",
    "\n",
    "r2b= r2_score(y_test, y_pred)\n",
    "\n",
    "print(\"El R2 del modelo es: \", r2b)\n"
   ]
  },
  {
   "cell_type": "markdown",
   "metadata": {},
   "source": [
    "1- Veo los pesos de cada componente principal, no tiene mucho peso cada variable, pero se observa que las variables que mas peso tienen son las que se seleccionaron en el modelo RFE"
   ]
  },
  {
   "cell_type": "markdown",
   "metadata": {},
   "source": [
    "2- De las variables generadas elegidas por RFE, que el optimo , segun pruebas es 14. Aplico PCA en esas variables y lo reduzco a 7 componentes principales para disminuir la \n",
    "dimensionalidad."
   ]
  },
  {
   "cell_type": "markdown",
   "metadata": {},
   "source": [
    "Pruebas de modelos"
   ]
  },
  {
   "cell_type": "markdown",
   "metadata": {},
   "source": [
    "**Modelo de Regresión polimonial** Probando el siguiente modelo con un degree de 3, si aumento mas la cantidad de degree, el modelo se sobreajusta y no generaliza bien y tarda mucho en \n",
    "entrenar."
   ]
  },
  {
   "cell_type": "code",
   "execution_count": 26,
   "metadata": {},
   "outputs": [
    {
     "name": "stdout",
     "output_type": "stream",
     "text": [
      "El R2 del modelo es:  0.2770726618388364\n"
     ]
    },
    {
     "data": {
      "text/plain": [
       "<Axes: xlabel='Score'>"
      ]
     },
     "execution_count": 26,
     "metadata": {},
     "output_type": "execute_result"
    },
    {
     "data": {
      "image/png": "[encoded data removed]",
      "text/plain": [
       "<Figure size 640x480 with 1 Axes>"
      ]
     },
     "metadata": {},
     "output_type": "display_data"
    }
   ],
   "source": [
    "poly_features = PolynomialFeatures(degree=3)\n",
    "x_poly = poly_features.fit_transform(x_pca)\n",
    "model10=LinearRegression()\n",
    "model10.fit(x_poly, y1)\n",
    "\n",
    "# hacemos la prediccion\n",
    "\n",
    "y_pred_poly = model10.predict(x_poly)\n",
    "\n",
    "# calculamos el error cuadratico medio\n",
    "\n",
    "r2c= r2_score(y1, y_pred_poly)\n",
    "\n",
    "\n",
    "print(\"El R2 del modelo es: \", r2c)\n",
    "\n",
    "# grafico de regresion polinomial\n",
    "\n",
    "sns.regplot(x=y1, y=y_pred_poly, color=\"g\", ci=None, label=\"Regresion Polinomial\", line_kws={'color':'blue'}, scatter_kws={'color':'red', 's':10})"
   ]
  },
  {
   "cell_type": "markdown",
   "metadata": {},
   "source": [
    "Se observa que el en modelo de regresion polinomial, el modelo se comporta mejor con un degree de 3, con las variables sinteticas generadas por PCA."
   ]
  },
  {
   "cell_type": "markdown",
   "metadata": {},
   "source": [
    "Modelo de regresión lineal"
   ]
  },
  {
   "cell_type": "code",
   "execution_count": 62,
   "metadata": {},
   "outputs": [
    {
     "name": "stdout",
     "output_type": "stream",
     "text": [
      "El R2 del modelo es:  0.2638377832256734\n"
     ]
    }
   ],
   "source": [
    "from sklearn.linear_model import LinearRegression\n",
    "\n",
    "x2= df_new # feature variables\n",
    "y2 = df[\"Score\"] # target variable\n",
    "\n",
    "# cargamos los datos de entrenamiento\n",
    "\n",
    "# separamos las variables predictoras de la variable objetivo\n",
    "\n",
    "X_train, X_test, y_train, y_test = train_test_split(x2, y2, test_size=0.3)\n",
    "\n",
    "# creamos el modelo\n",
    "modelo1 = LinearRegression()\n",
    "\n",
    "# entrenamos el modelo\n",
    "\n",
    "modelo1.fit(X_train, y_train)\n",
    "\n",
    "# hacemos la prediccion\n",
    "y_pred_lin = modelo1.predict(X_test)\n",
    "\n",
    "# calculamos el error cuadratico medio\n",
    "\n",
    "r2a= r2_score(y_test, y_pred_lin)\n",
    "\n",
    "print(\"El R2 del modelo es: \", r2a)\n",
    "\n"
   ]
  },
  {
   "cell_type": "markdown",
   "metadata": {},
   "source": [
    "En el modelo de regresion lineal , con las variables de PCA, baja un poco el rendimiento. el cual uso las variables elegidas por el modelo RFE."
   ]
  },
  {
   "cell_type": "markdown",
   "metadata": {},
   "source": [
    "Comparo los 2 modelos, el de regresion polinomial y el de regresion lineal, con las variables de PCA y las variables de RFE."
   ]
  },
  {
   "cell_type": "code",
   "execution_count": 49,
   "metadata": {},
   "outputs": [
    {
     "data": {
      "text/plain": [
       "<Axes: xlabel='Score'>"
      ]
     },
     "execution_count": 49,
     "metadata": {},
     "output_type": "execute_result"
    },
    {
     "data": {
      "image/png": "[encoded data removed]",
      "text/plain": [
       "<Figure size 640x480 with 1 Axes>"
      ]
     },
     "metadata": {},
     "output_type": "display_data"
    }
   ],
   "source": [
    "sns.set_theme(style=\"whitegrid\")\n",
    "\n",
    "# grafico de regresion lineal\n",
    "\n",
    "sns.regplot(x=y_test, y=y_pred_lin, color=\"g\", ci=None, label=\"Regresion Lineal\", line_kws={'color':'black'}, scatter_kws={'color':'green', 's':10})\n",
    "\n",
    "# grafico de regresion polinomial\n",
    "\n",
    "sns.regplot(x=y2, y=y_pred_poly, color=\"g\", ci=None, label=\"Regresion Polinomial\", line_kws={'color':'blue'}, scatter_kws={'color':'red', 's':10})"
   ]
  },
  {
   "cell_type": "markdown",
   "metadata": {},
   "source": [
    "Ver hiperparametros de los modelos"
   ]
  },
  {
   "cell_type": "code",
   "execution_count": 50,
   "metadata": {},
   "outputs": [
    {
     "name": "stdout",
     "output_type": "stream",
     "text": [
      "Mejor parametro:  {'alpha': 10}\n"
     ]
    }
   ],
   "source": [
    "model12 = Ridge()\n",
    "\n",
    "# espacio de parametros\n",
    "espacio_busqueda = {\"alpha\": [0.0001, 0.00, 0.1, 1, 10, 100, 1000]}\n",
    "\n",
    "busqueda = GridSearchCV(model12, espacio_busqueda, scoring=\"r2\", cv=5)\n",
    "\n",
    "busqueda.fit(x2, y2)\n",
    "\n",
    "print(\"Mejor parametro: \", busqueda.best_params_)\n"
   ]
  },
  {
   "cell_type": "code",
   "execution_count": 51,
   "metadata": {},
   "outputs": [
    {
     "name": "stdout",
     "output_type": "stream",
     "text": [
      "R2:  0.23794709832969652\n",
      "R2:  0.25486956079099365\n",
      "R2:  0.24841317407992636\n",
      "R2:  0.2594367592372401\n",
      "R2:  0.2159832342706024\n",
      "R2:  0.24874183748704848\n",
      "R2:  0.2839391848386643\n",
      "R2:  0.2549892572608121\n",
      "R2:  0.25137826516844597\n",
      "R2:  0.23342604528168998\n"
     ]
    }
   ],
   "source": [
    "model11 = Ridge(alpha=10)\n",
    "\n",
    "#validacion cruzada\n",
    "\n",
    "kf = KFold(n_splits=10, shuffle=True, random_state=42)\n",
    "\n",
    "for train_index, test_index in kf.split(x2):\n",
    "    x_train, x_test = x2.iloc[train_index], x2.iloc[test_index]\n",
    "    y_train, y_test = y2.iloc[train_index], y2.iloc[test_index]\n",
    "    model11.fit(x_train, y_train)\n",
    "    y_pred = model11.predict(x_test)\n",
    "    print(\"R2: \", r2_score(y_test, y_pred))\n",
    "\n"
   ]
  },
  {
   "cell_type": "markdown",
   "metadata": {},
   "source": [
    "Conclusión de perfomance de los modelos, los modelos dan un perfomance cercano al 25 % y 28% . El modelo de regresion polinomial con las variables de PCA, es el que mejor se comporta."
   ]
  }
 ],
 "metadata": {
  "kernelspec": {
   "display_name": "Python 3",
   "language": "python",
   "name": "python3"
  },
  "language_info": {
   "codemirror_mode": {
    "name": "ipython",
    "version": 3
   },
   "file_extension": ".py",
   "mimetype": "text/x-python",
   "name": "python",
   "nbconvert_exporter": "python",
   "pygments_lexer": "ipython3",
   "version": "3.11.0"
  }
 },
 "nbformat": 4,
 "nbformat_minor": 2
}
